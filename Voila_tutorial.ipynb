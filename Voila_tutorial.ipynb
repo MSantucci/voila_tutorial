{
 "cells": [
  {
   "cell_type": "markdown",
   "id": "a80362bc",
   "metadata": {},
   "source": [
    "# Create web interactive Applications jupyter and Voila\n",
    "\n",
    "yt [tutorial_here](https://www.youtube.com/watch?v=t8P6estGusQ)"
   ]
  },
  {
   "cell_type": "code",
   "execution_count": 1,
   "id": "dd5bf7bf97827f7",
   "metadata": {
    "ExecuteTime": {
     "end_time": "2024-04-28T17:17:40.096706200Z",
     "start_time": "2024-04-28T17:17:40.094703500Z"
    }
   },
   "outputs": [],
   "source": [
    "import warnings \n",
    "warnings.filterwarnings(\"ignore\")\n",
    "\n",
    "import ipywidgets as widgets\n",
    "from IPython.display import display, clear_output"
   ]
  },
  {
   "cell_type": "code",
   "execution_count": 3,
   "id": "93c30270",
   "metadata": {
    "ExecuteTime": {
     "end_time": "2024-04-28T17:17:43.016036400Z",
     "start_time": "2024-04-28T17:17:41.272034300Z"
    },
    "scrolled": false
   },
   "outputs": [
    {
     "name": "stderr",
     "output_type": "stream",
     "text": [
      "Enabling notebook extension jupyter-js-widgets/extension...\n",
      "      - Validating: ok\n",
      "Enabling: voila\n",
      "- Writing config: C:\\Users\\marco\\anaconda3\\etc\\jupyter\n",
      "    - Validating...\n",
      "      voila 0.5.6 ok\n"
     ]
    }
   ],
   "source": [
    "!python -m jupyter nbextension enable --py widgetsnbextension --sys-prefix\n",
    "!python -m jupyter serverextension enable voila --sys-prefix"
   ]
  },
  {
   "cell_type": "code",
   "execution_count": 4,
   "id": "bc9ef364c15748ab",
   "metadata": {
    "ExecuteTime": {
     "end_time": "2024-04-28T17:17:52.567118500Z",
     "start_time": "2024-04-28T17:17:52.565611Z"
    }
   },
   "outputs": [
    {
     "name": "stdout",
     "output_type": "stream",
     "text": [
      "hello world\n"
     ]
    }
   ],
   "source": [
    "print(\"hello world\")"
   ]
  },
  {
   "cell_type": "code",
   "execution_count": 5,
   "id": "2469afe65771d1b0",
   "metadata": {
    "ExecuteTime": {
     "end_time": "2024-04-28T17:17:53.475635300Z",
     "start_time": "2024-04-28T17:17:53.465164900Z"
    }
   },
   "outputs": [
    {
     "data": {
      "application/vnd.jupyter.widget-view+json": {
       "model_id": "8b55fd1026cf4a2e91423868b9d50de1",
       "version_major": 2,
       "version_minor": 0
      },
      "text/plain": [
       "VBox(children=(Image(value=b'\\x89PNG\\r\\n\\x1a\\n\\x00\\x00\\x00\\rIHDR\\x00\\x00\\x0f\\x00\\x00\\x00\\x08p\\x02\\x03\\x00\\x00\\…"
      ]
     },
     "execution_count": 5,
     "metadata": {},
     "output_type": "execute_result"
    }
   ],
   "source": [
    "file = open(\"Python_Symbol.png\", \"rb\")\n",
    "image = file.read()\n",
    "\n",
    "image_headline = widgets.Image(\n",
    "                               value = image,\n",
    "                               format = \"png\", \n",
    "                               width = \"100\"\n",
    "                                )\n",
    "\n",
    "label_headline = widgets.Label(\n",
    "                               value = \"photo by CDC on Unplash\",\n",
    "                               style = {\"description_width\": \"initial\"}\n",
    "                                )\n",
    "\n",
    "vbox_headline = widgets.VBox([image_headline, label_headline])\n",
    "\n",
    "vbox_headline"
   ]
  },
  {
   "cell_type": "code",
   "execution_count": 6,
   "id": "0b2b6270",
   "metadata": {
    "ExecuteTime": {
     "end_time": "2024-04-28T17:17:54.667517300Z",
     "start_time": "2024-04-28T17:17:54.661836400Z"
    }
   },
   "outputs": [
    {
     "data": {
      "text/plain": [
       "'C:\\\\Users\\\\marco\\\\PycharmProjects\\\\marco_pc\\\\LLM_crystallography'"
      ]
     },
     "execution_count": 6,
     "metadata": {},
     "output_type": "execute_result"
    }
   ],
   "source": [
    "%pwd"
   ]
  },
  {
   "cell_type": "code",
   "execution_count": null,
   "id": "87f6cd68",
   "metadata": {},
   "outputs": [],
   "source": []
  }
 ],
 "metadata": {
  "kernelspec": {
   "display_name": "Python 3 (ipykernel)",
   "language": "python",
   "name": "python3"
  },
  "language_info": {
   "codemirror_mode": {
    "name": "ipython",
    "version": 3
   },
   "file_extension": ".py",
   "mimetype": "text/x-python",
   "name": "python",
   "nbconvert_exporter": "python",
   "pygments_lexer": "ipython3",
   "version": "3.11.5"
  }
 },
 "nbformat": 4,
 "nbformat_minor": 5
}
