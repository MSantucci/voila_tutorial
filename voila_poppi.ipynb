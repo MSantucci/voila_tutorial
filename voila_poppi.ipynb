{
 "cells": [
  {
   "cell_type": "markdown",
   "id": "d297b3e3",
   "metadata": {},
   "source": [
    "# For my amazing sexy poppi \n",
    "\n",
    "this is just a simple gift from my side in order to remind you that i'm always thinking about you ! \n",
    "\n",
    "even of we are far away, you are always in my heart...\n",
    "\n",
    "if you think the same click the button below\n",
    "\n"
   ]
  },
  {
   "cell_type": "code",
   "execution_count": 21,
   "id": "27f8ba5a",
   "metadata": {},
   "outputs": [],
   "source": [
    "import warnings \n",
    "warnings.filterwarnings(\"ignore\")\n",
    "import ipywidgets as widgets\n",
    "from IPython.display import display, clear_output"
   ]
  },
  {
   "cell_type": "code",
   "execution_count": 22,
   "id": "621925c6",
   "metadata": {},
   "outputs": [
    {
     "data": {
      "application/vnd.jupyter.widget-view+json": {
       "model_id": "59d49202b12d4037830423ea321fd9cd",
       "version_major": 2,
       "version_minor": 0
      },
      "text/plain": [
       "Button(description='Click here if you are in love with Marco...', layout=Layout(border_bottom='5px solid red',…"
      ]
     },
     "metadata": {},
     "output_type": "display_data"
    },
    {
     "data": {
      "application/vnd.jupyter.widget-view+json": {
       "model_id": "ac13e6f9618c4418a0584738acfbef72",
       "version_major": 2,
       "version_minor": 0
      },
      "text/plain": [
       "Image(value=b'RIFF\\x18N\\x01\\x00WEBPVP8X\\n\\x00\\x00\\x00\\x12\\x00\\x00\\x00\\xaf\\x02\\x00\\xf3\\x01\\x00ANIM\\x06\\x00\\x00\\…"
      ]
     },
     "metadata": {},
     "output_type": "display_data"
    }
   ],
   "source": [
    "\n",
    "%pwd\n",  
    "b1 = widgets.Button(description = \"Click here if you are in love with Marco...\")\n",
    "b1.style.font_size = \"18px\"\n",
    "b1.layout = widgets.Layout(width = \"100%\", height = \"50px\", border = \"5px solid red\")\n",
    "b1.style.button_style = \"success\" \n",
    "\n",
    "display(b1)\n",
    "\n",
    "def clicked(b): \n",
    "    if var == 0:\n",
    "        with open(\"static/ilove_you.webp\", \"rb\") as file:\n",
    "            # read file as string into `image` \n",
    "            image = file.read()\n",
    "\n",
    "        img = widgets.Image(\n",
    "            value=image,\n",
    "            format='webp'\n",
    "        )\n",
    "        display(img)\n",
    "\n",
    "        \n",
    "b1.on_click(clicked)"
   ]
  },
  {
   "cell_type": "code",
   "execution_count": 23,
   "id": "9a5c0847",
   "metadata": {},
   "outputs": [
    {
     "data": {
      "application/vnd.jupyter.widget-view+json": {
       "model_id": "be0ec2cf17934f33a86ee931bbd35e6d",
       "version_major": 2,
       "version_minor": 0
      },
      "text/plain": [
       "Label(value='Please consider your feeling before clicking this button.', style=LabelStyle(font_size='18px'))"
      ]
     },
     "metadata": {},
     "output_type": "display_data"
    },
    {
     "data": {
      "application/vnd.jupyter.widget-view+json": {
       "model_id": "9af70fcee65a48b5a82275c9af15b888",
       "version_major": 2,
       "version_minor": 0
      },
      "text/plain": [
       "Label(value='Your answer is permanently binding!', style=LabelStyle(font_size='18px'))"
      ]
     },
     "metadata": {},
     "output_type": "display_data"
    },
    {
     "data": {
      "application/vnd.jupyter.widget-view+json": {
       "model_id": "f2f25bbe4690402ca65f2d815b35d90c",
       "version_major": 2,
       "version_minor": 0
      },
      "text/plain": [
       "Label(value='For any issue pray at the Frank Rocker Shrine...', style=LabelStyle(font_size='18px'))"
      ]
     },
     "metadata": {},
     "output_type": "display_data"
    }
   ],
   "source": [
    "msg1 = \"Please consider your feeling before clicking this button.\"\n",
    "msg2 = \"Your answer is permanently binding!\"\n",
    "msg3 = \"For any issue pray at the Frank Rocker Shrine...\"\n",
    "l1 = widgets.Label(value = msg1)\n",
    "l2 = widgets.Label(value = msg2)\n",
    "l3 = widgets.Label(value = msg3)\n",
    "\n",
    "\n",
    "l1.style.font_size = \"18px\"\n",
    "l2.style.font_size = \"18px\"\n",
    "l3.style.font_size = \"18px\"\n",
    "\n",
    "display(l1, l2, l3)\n"
   ]
  },
  {
   "cell_type": "code",
   "execution_count": null,
   "id": "9791e84d",
   "metadata": {},
   "outputs": [],
   "source": [
    "\n",
    "\n"
   ]
  },
  {
   "cell_type": "code",
   "execution_count": 25,
   "id": "5559b14f",
   "metadata": {},
   "outputs": [
    {
     "data": {
      "text/plain": [
       "'C:\\\\Users\\\\marco\\\\PycharmProjects\\\\marco_pc\\\\LLM_crystallography'"
      ]
     },
     "execution_count": 25,
     "metadata": {},
     "output_type": "execute_result"
    }
   ],
   "source": []
  },
  {
   "cell_type": "code",
   "execution_count": 24,
   "id": "35e729cc",
   "metadata": {},
   "outputs": [],
   "source": [
    "#with open(\"./ilove_you.webp\", \"rb\") as file:\n",
    "#            # read file as string into `image` \n",
    "#            image = file.read()\n",
    "#\n",
    "#        img = widgets.Image(\n",
    "#            value=image,\n",
    "#            format='webp'\n",
    "#        )"
   ]
  },
  {
   "cell_type": "code",
   "execution_count": null,
   "id": "3d64923c",
   "metadata": {},
   "outputs": [],
   "source": []
  }
 ],
 "metadata": {
  "kernelspec": {
   "display_name": "Python 3 (ipykernel)",
   "language": "python",
   "name": "python3"
  },
  "language_info": {
   "codemirror_mode": {
    "name": "ipython",
    "version": 3
   },
   "file_extension": ".py",
   "mimetype": "text/x-python",
   "name": "python",
   "nbconvert_exporter": "python",
   "pygments_lexer": "ipython3",
   "version": "3.11.5"
  }
 },
 "nbformat": 4,
 "nbformat_minor": 5
}
