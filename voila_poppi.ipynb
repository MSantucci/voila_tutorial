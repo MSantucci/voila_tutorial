{
 "cells": [
  {
   "cell_type": "markdown",
   "id": "e932ed6e",
   "metadata": {},
   "source": [
    "# For my amazing poppi \n",
    "\n",
    "this is just a simple gift from my side in order to remind you that i'm always thinking about you ! \n",
    "\n",
    "even of we are far away, you are always in my heart...\n",
    "\n",
    "if you think the same click the button below\n",
    "\n"
   ]
  },
  {
   "cell_type": "code",
   "execution_count": 79,
   "id": "1e8cbd43",
   "metadata": {},
   "outputs": [],
   "source": [
    "import warnings \n",
    "warnings.filterwarnings(\"ignore\")\n",
    "import ipywidgets as widgets\n",
    "from IPython.display import display, clear_output, Image, Markdown\n"
   ]
  },
  {
   "cell_type": "code",
   "execution_count": 100,
   "id": "5ee5023c",
   "metadata": {},
   "outputs": [
    {
     "data": {
      "application/vnd.jupyter.widget-view+json": {
       "model_id": "c5cc6e245eb143ccb0e0d1607b99a311",
       "version_major": 2,
       "version_minor": 0
      },
      "text/plain": [
       "VBox(children=(Output(), Button(description='Click here if you are in love with Marco...', layout=Layout(borde…"
      ]
     },
     "metadata": {},
     "output_type": "display_data"
    }
   ],
   "source": [
    "#file = open(\"static/ilove_you.webp\", \"rb\")\n",
    "# read file as string into `image` \n",
    "#image = file.read()\n",
    "#img = widgets.Image(value=image,\n",
    "#                            format='webp',\n",
    "#                            width = \"500\")\n",
    "#display(img)\n",
    "\n",
    "img = Markdown(\"![image](https://gifdb.com/images/high/i-love-you-too-love-cute-bear-cartoon-blowing-kisses-9fchd93chxj56pba.webp)\")\n",
    "\n",
    "b1 = widgets.Button(description = \"Click here if you are in love with Marco...\")\n",
    "b1.style.font_size = \"18px\"\n",
    "b1.layout = widgets.Layout(width = \"70%\", height = \"50%\", border = \"5px solid red\")\n",
    "b1.style.button_style = \"success\" \n",
    "\n",
    "#img1 = Markdown(\"\")\n",
    "\n",
    "output = widgets.Output()\n",
    "var = 0\n",
    "def clicked(b): \n",
    "    global var\n",
    "   \n",
    "        #img = widgets.Image(value=image,\n",
    "        #                    format='webp',\n",
    "        #                    width = \"500\")\n",
    "        #display(img)\n",
    "        #img1 = img\n",
    "    with output:\n",
    "        #print(\"hello world here\")\n",
    "        #print(img)\n",
    "        display(img)\n",
    "        if var == 0:\n",
    "            b1.description = \"wow you are really in love with marco!!\"\n",
    "        elif var == 1:\n",
    "            b1.description = \"click here for more love in the air\"\n",
    "        elif var == 2:\n",
    "            b1.description = \"danger overdose of love found, click here to solve..\"\n",
    "        elif var == 3:\n",
    "            b1.description = \"911, what is your emergency? too much love? impossible\"\n",
    "        elif var == 4:\n",
    "            b1.description = \"every time i see you i fall in love with you again and again\"\n",
    "        elif var == 5:\n",
    "            b1.description = \"you are my poppi and i love youu so much that i did thid webpage 4 u!!!\"\n",
    "        elif var == 6:\n",
    "            b1.description = \"ti voglio un mondo di bene amore mio e mi manchi tanto\"\n",
    "            clear_output()\n",
    "            var = 0\n",
    "            return\n",
    "        var += 1\n",
    "        \n",
    "\n",
    "        \n",
    "b1.on_click(clicked)\n",
    "vbox_res = widgets.VBox([output, b1])\n",
    "display(vbox_res)"
   ]
  },
  {
   "cell_type": "code",
   "execution_count": 83,
   "id": "2de303dd",
   "metadata": {},
   "outputs": [
    {
     "data": {
      "application/vnd.jupyter.widget-view+json": {
       "model_id": "32d33235eb9f4e2294faa08f1e4a329b",
       "version_major": 2,
       "version_minor": 0
      },
      "text/plain": [
       "Label(value='Please consider your feeling before clicking this button.', style=LabelStyle(font_size='18px'))"
      ]
     },
     "metadata": {},
     "output_type": "display_data"
    },
    {
     "data": {
      "application/vnd.jupyter.widget-view+json": {
       "model_id": "4f223ee155774a639b09987e4fbd7a8f",
       "version_major": 2,
       "version_minor": 0
      },
      "text/plain": [
       "Label(value='Your answer is permanently binding!', style=LabelStyle(font_size='18px'))"
      ]
     },
     "metadata": {},
     "output_type": "display_data"
    },
    {
     "data": {
      "application/vnd.jupyter.widget-view+json": {
       "model_id": "5a040c8e0dbd449fa1621825f579527b",
       "version_major": 2,
       "version_minor": 0
      },
      "text/plain": [
       "Label(value='For any issue pray at the Frank Rocker Shrine...', style=LabelStyle(font_size='18px'))"
      ]
     },
     "metadata": {},
     "output_type": "display_data"
    }
   ],
   "source": [
    "msg1 = \"Please consider your feeling before clicking this button.\"\n",
    "msg2 = \"Your answer is permanently binding!\"\n",
    "msg3 = \"For any issue pray at the Frank Rocker Shrine...\"\n",
    "l1 = widgets.Label(value = msg1)\n",
    "l2 = widgets.Label(value = msg2)\n",
    "l3 = widgets.Label(value = msg3)\n",
    "\n",
    "\n",
    "l1.style.font_size = \"18px\"\n",
    "l2.style.font_size = \"18px\"\n",
    "l3.style.font_size = \"18px\"\n",
    "\n",
    "display(l1, l2, l3)\n"
   ]
  },
  {
   "cell_type": "code",
   "execution_count": null,
   "id": "682befd4",
   "metadata": {},
   "outputs": [],
   "source": []
  },
  {
   "cell_type": "code",
   "execution_count": null,
   "id": "84d2d494",
   "metadata": {},
   "outputs": [],
   "source": []
  },
  {
   "cell_type": "code",
   "execution_count": 73,
   "id": "1d9301e0",
   "metadata": {},
   "outputs": [],
   "source": [
    "#with open(\"./ilove_you.webp\", \"rb\") as file:\n",
    "#            # read file as string into `image` \n",
    "#            image = file.read()\n",
    "#\n",
    "#        img = widgets.Image(\n",
    "#            value=image,\n",
    "#            format='webp'\n",
    "#        )"
   ]
  },
  {
   "cell_type": "code",
   "execution_count": null,
   "id": "e440ef53",
   "metadata": {},
   "outputs": [],
   "source": []
  },
  {
   "cell_type": "code",
   "execution_count": null,
   "id": "34d68722",
   "metadata": {},
   "outputs": [],
   "source": []
  }
 ],
 "metadata": {
  "kernelspec": {
   "display_name": "Python 3 (ipykernel)",
   "language": "python",
   "name": "python3"
  },
  "language_info": {
   "codemirror_mode": {
    "name": "ipython",
    "version": 3
   },
   "file_extension": ".py",
   "mimetype": "text/x-python",
   "name": "python",
   "nbconvert_exporter": "python",
   "pygments_lexer": "ipython3",
   "version": "3.11.5"
  }
 },
 "nbformat": 4,
 "nbformat_minor": 5
}
